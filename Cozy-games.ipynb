{
 "cells": [
  {
   "cell_type": "code",
   "execution_count": 16,
   "id": "3f84e08e",
   "metadata": {},
   "outputs": [],
   "source": [
    "import requests\n",
    "from bs4 import BeautifulSoup\n",
    "from pathlib import Path\n",
    "import re\n",
    "import json\n",
    "from urllib.parse import urljoin\n",
    "import pandas as pd\n",
    "import time\n",
    "import math\n",
    "from rich import print\n",
    "from rich.progress import track\n",
    "from random import randrange"
   ]
  },
  {
   "cell_type": "code",
   "execution_count": 17,
   "id": "0b9df7e1-dd90-429f-9b74-f708e0689bd2",
   "metadata": {},
   "outputs": [],
   "source": [
    "## ID number for url\n",
    "#97376 "
   ]
  },
  {
   "cell_type": "code",
   "execution_count": 18,
   "id": "36eb2094",
   "metadata": {},
   "outputs": [],
   "source": [
    "def get_url(\n",
    "    url: str,\n",
    "    user_agent: str = \"Mozilla/5.0 (Macintosh; Intel Mac OS X 12_4) AppleWebKit/537.36 (KHTML, like Gecko) Chrome/103.0.0.0 Safari/537.36\",\n",
    "    timeout: int = 30,\n",
    "    verbose: bool = False,\n",
    ") -> requests.Response:\n",
    "    \"\"\"Get the provided URL.\n",
    "\n",
    "    Args:\n",
    "        url (str): The URL to get.\n",
    "        user_agent (str, optional): The user agent to use. Defaults to \"Mozilla/5.0 (Macintosh; Intel Mac OS X 12_4) AppleWebKit/537.36 (KHTML, like Gecko) Chrome/\n",
    "        timeout (int, optional): The number of seconds to wait before timing out. Defaults to 30.\n",
    "        verbose (bool, optional): Whether to print out the results. Defaults to False.\n",
    "\n",
    "    Returns:\n",
    "        requests.Response: The response object.\n",
    "    \"\"\"\n",
    "    # Set the headers\n",
    "    headers = {\n",
    "        \"User-Agent\": user_agent,\n",
    "    }\n",
    "\n",
    "    # Log the URL, if verbose\n",
    "    if verbose:\n",
    "        print(f\"Fetching {url}\")\n",
    "\n",
    "    # Get the URL\n",
    "    r = requests.get(url, headers=headers, timeout=timeout)\n",
    "\n",
    "    # Raise an error if the request failed\n",
    "    assert r.ok\n",
    "\n",
    "    # Return the response\n",
    "    return r"
   ]
  },
  {
   "cell_type": "code",
   "execution_count": 19,
   "id": "626ff903",
   "metadata": {},
   "outputs": [],
   "source": [
    "#the url for the site\n",
    "url= \"https://store.steampowered.com/search/?sort_by=Released_DESC&force_infinite=1&tags=97376&category1=998&supportedlang=english&ndl=1\""
   ]
  },
  {
   "cell_type": "code",
   "execution_count": 20,
   "id": "1e0d8fd7",
   "metadata": {},
   "outputs": [
    {
     "data": {
      "text/html": [
       "<pre style=\"white-space:pre;overflow-x:auto;line-height:normal;font-family:Menlo,'DejaVu Sans Mono',consolas,'Courier New',monospace\">Fetching \n",
       "<span style=\"color: #0000ff; text-decoration-color: #0000ff; text-decoration: underline\">https://store.steampowered.com/search/?sort_by=Released_DESC&amp;force_infinite=1&amp;tags=97376&amp;category1=998&amp;supportedlan</span>\n",
       "<span style=\"color: #0000ff; text-decoration-color: #0000ff; text-decoration: underline\">g=english&amp;ndl=1</span>\n",
       "</pre>\n"
      ],
      "text/plain": [
       "Fetching \n",
       "\u001b[4;94mhttps://store.steampowered.com/search/?\u001b[0m\u001b[4;94msort_by\u001b[0m\u001b[4;94m=\u001b[0m\u001b[4;94mReleased_DESC\u001b[0m\u001b[4;94m&\u001b[0m\u001b[4;94mforce_infinite\u001b[0m\u001b[4;94m=\u001b[0m\u001b[4;94m1\u001b[0m\u001b[4;94m&\u001b[0m\u001b[4;94mtags\u001b[0m\u001b[4;94m=\u001b[0m\u001b[4;94m97376\u001b[0m\u001b[4;94m&\u001b[0m\u001b[4;94mcategory1\u001b[0m\u001b[4;94m=\u001b[0m\u001b[4;94m998\u001b[0m\u001b[4;94m&\u001b[0m\u001b[4;94msupportedlan\u001b[0m\n",
       "\u001b[4;94mg\u001b[0m\u001b[4;94m=\u001b[0m\u001b[4;94menglish\u001b[0m\u001b[4;94m&\u001b[0m\u001b[4;94mndl\u001b[0m\u001b[4;94m=\u001b[0m\u001b[4;94m1\u001b[0m\n"
      ]
     },
     "metadata": {},
     "output_type": "display_data"
    }
   ],
   "source": [
    "r = get_url(url, verbose=True)"
   ]
  },
  {
   "cell_type": "code",
   "execution_count": 21,
   "id": "ea0aff6f",
   "metadata": {},
   "outputs": [],
   "source": [
    "soup = BeautifulSoup(r.text, \"html.parser\")"
   ]
  },
  {
   "cell_type": "code",
   "execution_count": 22,
   "id": "07684fb0",
   "metadata": {},
   "outputs": [],
   "source": [
    "def timer(start_time,end_time):\n",
    "    \"\"\"\n",
    "    This is a function for a timer\n",
    "    para1 = int for start time\n",
    "    para2 = int for end time\n",
    "    \"\"\"\n",
    "    snoozer = randrange(start_time,end_time)\n",
    "    time.sleep(snoozer)"
   ]
  },
  {
   "cell_type": "code",
   "execution_count": 23,
   "id": "f6cdbcc2-5cdf-4ba5-ac33-00c0d536a753",
   "metadata": {},
   "outputs": [],
   "source": [
    "#total number of games in the category 10/25/24\n",
    "total_games = 572"
   ]
  },
  {
   "cell_type": "code",
   "execution_count": 24,
   "id": "9cd5f862-3acb-4d36-abb4-a05b3e63ac57",
   "metadata": {},
   "outputs": [],
   "source": [
    "# houw many games per page\n",
    "per_page = 50"
   ]
  },
  {
   "cell_type": "code",
   "execution_count": 25,
   "id": "30651457-a701-4c6e-902f-98457d3c65a8",
   "metadata": {},
   "outputs": [
    {
     "data": {
      "text/plain": [
       "12"
      ]
     },
     "execution_count": 25,
     "metadata": {},
     "output_type": "execute_result"
    }
   ],
   "source": [
    "#get the amount of pages to scrape rounded\n",
    "page_count = math.ceil(total_games / per_page)\n",
    "page_count"
   ]
  },
  {
   "cell_type": "code",
   "execution_count": 26,
   "id": "0a438ec1-2cf6-425c-877b-db300c309197",
   "metadata": {},
   "outputs": [],
   "source": [
    "#enter that into its own variable\n",
    "page_list = list(range(0, page_count))"
   ]
  },
  {
   "cell_type": "code",
   "execution_count": 27,
   "id": "32bbafe6-a92d-434e-8841-564f29ab581a",
   "metadata": {},
   "outputs": [
    {
     "data": {
      "text/plain": [
       "PosixPath('output/json/cozy')"
      ]
     },
     "execution_count": 27,
     "metadata": {},
     "output_type": "execute_result"
    }
   ],
   "source": [
    "#set path for raw data to go to\n",
    "json_dir = Path() / \"output\" / \"json\" / \"cozy\"\n",
    "json_dir"
   ]
  },
  {
   "cell_type": "code",
   "execution_count": 28,
   "id": "d4ecc99a",
   "metadata": {},
   "outputs": [
    {
     "data": {
      "application/vnd.jupyter.widget-view+json": {
       "model_id": "9e9d8dac27cf47b989a87e5d0bff988f",
       "version_major": 2,
       "version_minor": 0
      },
      "text/plain": [
       "Output()"
      ]
     },
     "metadata": {},
     "output_type": "display_data"
    },
    {
     "data": {
      "text/html": [
       "<pre style=\"white-space:pre;overflow-x:auto;line-height:normal;font-family:Menlo,'DejaVu Sans Mono',consolas,'Courier New',monospace\"></pre>\n"
      ],
      "text/plain": []
     },
     "metadata": {},
     "output_type": "display_data"
    }
   ],
   "source": [
    "#scrape raw data from page and save it to the folder\n",
    "for i in track(page_list):\n",
    "    # If the JSON for this page is already downloaded, skip it!\n",
    "    output_path = json_dir / f\"{i}.json\"\n",
    "    if output_path.exists():\n",
    "        continue\n",
    "\n",
    "    # Otherwise, download it!\n",
    "    start = i * 50\n",
    "    url = f\"https://store.steampowered.com/search/results/?query&start={start}&count=50&dynamic_data=&sort_by=Released_DESC&snr=1_7_7_240_7&tags=97376&category1=998&supportedlang=english&infinite=1\"\n",
    "    r = requests.get(url)\n",
    "    assert r.ok\n",
    "    \n",
    "    # Now save it out!\n",
    "    data = r.json()\n",
    "    with open(output_path, \"w\") as f:\n",
    "        json.dump(data, f, indent=2)\n",
    "\n",
    "    # Throw in a delay\n",
    "    timer(5,12)"
   ]
  },
  {
   "cell_type": "code",
   "execution_count": 29,
   "id": "1cd46a78-b709-4dc0-8d35-b4e660ee31a0",
   "metadata": {},
   "outputs": [],
   "source": [
    "json_files = list(json_dir.glob(\"*.json\"))"
   ]
  },
  {
   "cell_type": "code",
   "execution_count": 30,
   "id": "f8eefb8d-0360-404c-bce0-9eeed1d6d4e4",
   "metadata": {},
   "outputs": [
    {
     "data": {
      "application/vnd.jupyter.widget-view+json": {
       "model_id": "0b8af1a6e24c40378b16207764656d67",
       "version_major": 2,
       "version_minor": 0
      },
      "text/plain": [
       "Output()"
      ]
     },
     "metadata": {},
     "output_type": "display_data"
    },
    {
     "data": {
      "text/html": [
       "<pre style=\"white-space:pre;overflow-x:auto;line-height:normal;font-family:Menlo,'DejaVu Sans Mono',consolas,'Courier New',monospace\"></pre>\n"
      ],
      "text/plain": []
     },
     "metadata": {},
     "output_type": "display_data"
    }
   ],
   "source": [
    "# parse through raw data and get information needed\n",
    "parsed_list = []\n",
    "for j in track(json_files):\n",
    "    data = json.load(open(j, \"r\"))\n",
    "    soup = BeautifulSoup(data[\"results_html\"])\n",
    "    for ele in soup.find_all(attrs={'class':\"responsive_search_name_combined\"}):\n",
    "        d = {}\n",
    "\n",
    "        d['title'] = ele.find(attrs={\"class\": \"title\"}).text.strip()\n",
    "        d['release_date'] = ele.find(\"div\", {\"class\": \"search_released\"}).text.strip()\n",
    "        d['final_price'] = ele.find(\"div\", {\"class\": \"search_price_discount_combined\"})['data-price-final']\n",
    "\n",
    "        try:\n",
    "            d['review_summary'] = ele.find(\"span\", {\"class\": \"search_review_summary\"})[\"data-tooltip-html\"]\n",
    "        except TypeError:\n",
    "            d['review_summary'] = None\n",
    "        \n",
    "        try:\n",
    "            d['original_price'] = ele.find(\"div\", {\"class\": \"discount_original_price\"}).text\n",
    "        except (AttributeError, TypeError):\n",
    "            d['original_price'] = None\n",
    "        \n",
    "        try:   \n",
    "            d['discount_price'] = ele.find(\"div\", {\"class\": \"discount_final_price\"}).text.strip()\n",
    "        except AttributeError:\n",
    "            d['discount_price'] = None\n",
    "        \n",
    "        parsed_list.append(d)"
   ]
  },
  {
   "cell_type": "code",
   "execution_count": 32,
   "id": "188d2dee-c429-4c1e-83f4-782f6c00d019",
   "metadata": {},
   "outputs": [
    {
     "data": {
      "text/html": [
       "<div>\n",
       "<style scoped>\n",
       "    .dataframe tbody tr th:only-of-type {\n",
       "        vertical-align: middle;\n",
       "    }\n",
       "\n",
       "    .dataframe tbody tr th {\n",
       "        vertical-align: top;\n",
       "    }\n",
       "\n",
       "    .dataframe thead th {\n",
       "        text-align: right;\n",
       "    }\n",
       "</style>\n",
       "<table border=\"1\" class=\"dataframe\">\n",
       "  <thead>\n",
       "    <tr style=\"text-align: right;\">\n",
       "      <th></th>\n",
       "      <th>title</th>\n",
       "      <th>release_date</th>\n",
       "      <th>final_price</th>\n",
       "      <th>review_summary</th>\n",
       "      <th>original_price</th>\n",
       "      <th>discount_price</th>\n",
       "    </tr>\n",
       "  </thead>\n",
       "  <tbody>\n",
       "    <tr>\n",
       "      <th>0</th>\n",
       "      <td>CottageVille</td>\n",
       "      <td>Nov 1, 2023</td>\n",
       "      <td>699</td>\n",
       "      <td>None</td>\n",
       "      <td>None</td>\n",
       "      <td>$6.99</td>\n",
       "    </tr>\n",
       "    <tr>\n",
       "      <th>1</th>\n",
       "      <td>Viking Chef: Feast Frenzy</td>\n",
       "      <td>Oct 31, 2023</td>\n",
       "      <td>499</td>\n",
       "      <td>None</td>\n",
       "      <td>None</td>\n",
       "      <td>$4.99</td>\n",
       "    </tr>\n",
       "    <tr>\n",
       "      <th>2</th>\n",
       "      <td>Doodle Harmony</td>\n",
       "      <td>Oct 30, 2023</td>\n",
       "      <td>199</td>\n",
       "      <td>Positive&lt;br&gt;96% of the 28 user reviews for thi...</td>\n",
       "      <td>None</td>\n",
       "      <td>$1.99</td>\n",
       "    </tr>\n",
       "    <tr>\n",
       "      <th>3</th>\n",
       "      <td>Twofold</td>\n",
       "      <td>Oct 27, 2023</td>\n",
       "      <td>1999</td>\n",
       "      <td>Very Positive&lt;br&gt;95% of the 63 user reviews fo...</td>\n",
       "      <td>None</td>\n",
       "      <td>$19.99</td>\n",
       "    </tr>\n",
       "    <tr>\n",
       "      <th>4</th>\n",
       "      <td>Terra Toy</td>\n",
       "      <td>Oct 27, 2023</td>\n",
       "      <td>499</td>\n",
       "      <td>Positive&lt;br&gt;93% of the 15 user reviews for thi...</td>\n",
       "      <td>None</td>\n",
       "      <td>$4.99</td>\n",
       "    </tr>\n",
       "    <tr>\n",
       "      <th>...</th>\n",
       "      <td>...</td>\n",
       "      <td>...</td>\n",
       "      <td>...</td>\n",
       "      <td>...</td>\n",
       "      <td>...</td>\n",
       "      <td>...</td>\n",
       "    </tr>\n",
       "    <tr>\n",
       "      <th>567</th>\n",
       "      <td>Railway Islands - Puzzle</td>\n",
       "      <td>Nov 18, 2021</td>\n",
       "      <td>71</td>\n",
       "      <td>Very Positive&lt;br&gt;96% of the 198 user reviews f...</td>\n",
       "      <td>$3.99</td>\n",
       "      <td>$0.71</td>\n",
       "    </tr>\n",
       "    <tr>\n",
       "      <th>568</th>\n",
       "      <td>Dogs Organized Neatly</td>\n",
       "      <td>Nov 1, 2021</td>\n",
       "      <td>149</td>\n",
       "      <td>Overwhelmingly Positive&lt;br&gt;98% of the 1,076 us...</td>\n",
       "      <td>$2.99</td>\n",
       "      <td>$1.49</td>\n",
       "    </tr>\n",
       "    <tr>\n",
       "      <th>569</th>\n",
       "      <td>Luffy: Way Back Home</td>\n",
       "      <td>Oct 21, 2021</td>\n",
       "      <td>199</td>\n",
       "      <td>Positive&lt;br&gt;85% of the 20 user reviews for thi...</td>\n",
       "      <td>None</td>\n",
       "      <td>$1.99</td>\n",
       "    </tr>\n",
       "    <tr>\n",
       "      <th>570</th>\n",
       "      <td>Dinogotchi</td>\n",
       "      <td>Sep 30, 2021</td>\n",
       "      <td>249</td>\n",
       "      <td>Very Positive&lt;br&gt;92% of the 55 user reviews fo...</td>\n",
       "      <td>None</td>\n",
       "      <td>$2.49</td>\n",
       "    </tr>\n",
       "    <tr>\n",
       "      <th>571</th>\n",
       "      <td>Meow'n'Dash</td>\n",
       "      <td>Sep 23, 2021</td>\n",
       "      <td>499</td>\n",
       "      <td>Positive&lt;br&gt;100% of the 11 user reviews for th...</td>\n",
       "      <td>None</td>\n",
       "      <td>$4.99</td>\n",
       "    </tr>\n",
       "  </tbody>\n",
       "</table>\n",
       "<p>572 rows × 6 columns</p>\n",
       "</div>"
      ],
      "text/plain": [
       "                         title  release_date final_price  \\\n",
       "0                 CottageVille   Nov 1, 2023         699   \n",
       "1    Viking Chef: Feast Frenzy  Oct 31, 2023         499   \n",
       "2               Doodle Harmony  Oct 30, 2023         199   \n",
       "3                      Twofold  Oct 27, 2023        1999   \n",
       "4                    Terra Toy  Oct 27, 2023         499   \n",
       "..                         ...           ...         ...   \n",
       "567   Railway Islands - Puzzle  Nov 18, 2021          71   \n",
       "568      Dogs Organized Neatly   Nov 1, 2021         149   \n",
       "569       Luffy: Way Back Home  Oct 21, 2021         199   \n",
       "570                 Dinogotchi  Sep 30, 2021         249   \n",
       "571                Meow'n'Dash  Sep 23, 2021         499   \n",
       "\n",
       "                                        review_summary original_price  \\\n",
       "0                                                 None           None   \n",
       "1                                                 None           None   \n",
       "2    Positive<br>96% of the 28 user reviews for thi...           None   \n",
       "3    Very Positive<br>95% of the 63 user reviews fo...           None   \n",
       "4    Positive<br>93% of the 15 user reviews for thi...           None   \n",
       "..                                                 ...            ...   \n",
       "567  Very Positive<br>96% of the 198 user reviews f...          $3.99   \n",
       "568  Overwhelmingly Positive<br>98% of the 1,076 us...          $2.99   \n",
       "569  Positive<br>85% of the 20 user reviews for thi...           None   \n",
       "570  Very Positive<br>92% of the 55 user reviews fo...           None   \n",
       "571  Positive<br>100% of the 11 user reviews for th...           None   \n",
       "\n",
       "    discount_price  \n",
       "0            $6.99  \n",
       "1            $4.99  \n",
       "2            $1.99  \n",
       "3           $19.99  \n",
       "4            $4.99  \n",
       "..             ...  \n",
       "567          $0.71  \n",
       "568          $1.49  \n",
       "569          $1.99  \n",
       "570          $2.49  \n",
       "571          $4.99  \n",
       "\n",
       "[572 rows x 6 columns]"
      ]
     },
     "execution_count": 32,
     "metadata": {},
     "output_type": "execute_result"
    }
   ],
   "source": [
    "#save to dataframe\n",
    "df = pd.DataFrame(parsed_list)\n",
    "df"
   ]
  },
  {
   "cell_type": "code",
   "execution_count": 33,
   "id": "df11a6e9-5770-4ab7-8f66-1d8e0f4e0cc1",
   "metadata": {},
   "outputs": [],
   "source": [
    "#make sure it's all there\n",
    "assert len(df) == total_games"
   ]
  },
  {
   "cell_type": "code",
   "execution_count": 34,
   "id": "a0014591-2e8a-493c-b241-2aca8ee4764e",
   "metadata": {},
   "outputs": [
    {
     "data": {
      "text/html": [
       "<div>\n",
       "<style scoped>\n",
       "    .dataframe tbody tr th:only-of-type {\n",
       "        vertical-align: middle;\n",
       "    }\n",
       "\n",
       "    .dataframe tbody tr th {\n",
       "        vertical-align: top;\n",
       "    }\n",
       "\n",
       "    .dataframe thead th {\n",
       "        text-align: right;\n",
       "    }\n",
       "</style>\n",
       "<table border=\"1\" class=\"dataframe\">\n",
       "  <thead>\n",
       "    <tr style=\"text-align: right;\">\n",
       "      <th></th>\n",
       "      <th>title</th>\n",
       "      <th>release_date</th>\n",
       "      <th>final_price</th>\n",
       "      <th>review_summary</th>\n",
       "      <th>original_price</th>\n",
       "      <th>discount_price</th>\n",
       "    </tr>\n",
       "  </thead>\n",
       "  <tbody>\n",
       "    <tr>\n",
       "      <th>418</th>\n",
       "      <td>The Cat Maze</td>\n",
       "      <td>Sep 27, 2022</td>\n",
       "      <td>499</td>\n",
       "      <td>None</td>\n",
       "      <td>None</td>\n",
       "      <td>$4.99</td>\n",
       "    </tr>\n",
       "    <tr>\n",
       "      <th>506</th>\n",
       "      <td>Railway Islands 2 - Puzzle</td>\n",
       "      <td>Nov 20, 2023</td>\n",
       "      <td>499</td>\n",
       "      <td>Positive&lt;br&gt;95% of the 20 user reviews for thi...</td>\n",
       "      <td>None</td>\n",
       "      <td>$4.99</td>\n",
       "    </tr>\n",
       "    <tr>\n",
       "      <th>500</th>\n",
       "      <td>William and Sly: Classic Collection</td>\n",
       "      <td>Dec 1, 2023</td>\n",
       "      <td>0</td>\n",
       "      <td>Very Positive&lt;br&gt;97% of the 145 user reviews f...</td>\n",
       "      <td>None</td>\n",
       "      <td>Free</td>\n",
       "    </tr>\n",
       "    <tr>\n",
       "      <th>111</th>\n",
       "      <td>Coloring Game 4</td>\n",
       "      <td>Jul 30, 2021</td>\n",
       "      <td>0</td>\n",
       "      <td>Very Positive&lt;br&gt;93% of the 1,779 user reviews...</td>\n",
       "      <td>None</td>\n",
       "      <td>Free</td>\n",
       "    </tr>\n",
       "    <tr>\n",
       "      <th>450</th>\n",
       "      <td>Cats and Seek: Dino Park</td>\n",
       "      <td>Feb 25, 2024</td>\n",
       "      <td>199</td>\n",
       "      <td>Very Positive&lt;br&gt;100% of the 139 user reviews ...</td>\n",
       "      <td>None</td>\n",
       "      <td>$1.99</td>\n",
       "    </tr>\n",
       "    <tr>\n",
       "      <th>372</th>\n",
       "      <td>A Weekend in Puzzleburg</td>\n",
       "      <td>Feb 17, 2023</td>\n",
       "      <td>1999</td>\n",
       "      <td>None</td>\n",
       "      <td>None</td>\n",
       "      <td>$19.99</td>\n",
       "    </tr>\n",
       "    <tr>\n",
       "      <th>329</th>\n",
       "      <td>Duck Detective: The Secret Salami</td>\n",
       "      <td>May 23, 2024</td>\n",
       "      <td>999</td>\n",
       "      <td>Overwhelmingly Positive&lt;br&gt;95% of the 3,314 us...</td>\n",
       "      <td>None</td>\n",
       "      <td>$9.99</td>\n",
       "    </tr>\n",
       "    <tr>\n",
       "      <th>206</th>\n",
       "      <td>Frog World</td>\n",
       "      <td>Aug 15, 2024</td>\n",
       "      <td>0</td>\n",
       "      <td>Positive&lt;br&gt;96% of the 26 user reviews for thi...</td>\n",
       "      <td>None</td>\n",
       "      <td>Free</td>\n",
       "    </tr>\n",
       "    <tr>\n",
       "      <th>268</th>\n",
       "      <td>Snake Pass</td>\n",
       "      <td>Mar 28, 2017</td>\n",
       "      <td>1999</td>\n",
       "      <td>Very Positive&lt;br&gt;86% of the 1,054 user reviews...</td>\n",
       "      <td>None</td>\n",
       "      <td>$19.99</td>\n",
       "    </tr>\n",
       "    <tr>\n",
       "      <th>333</th>\n",
       "      <td>A Tower Full of Cats</td>\n",
       "      <td>May 20, 2024</td>\n",
       "      <td>479</td>\n",
       "      <td>Overwhelmingly Positive&lt;br&gt;99% of the 1,262 us...</td>\n",
       "      <td>$5.99</td>\n",
       "      <td>$4.79</td>\n",
       "    </tr>\n",
       "    <tr>\n",
       "      <th>481</th>\n",
       "      <td>Omurice Next Time</td>\n",
       "      <td>Jan 15, 2024</td>\n",
       "      <td>1299</td>\n",
       "      <td>Positive&lt;br&gt;100% of the 21 user reviews for th...</td>\n",
       "      <td>None</td>\n",
       "      <td>$12.99</td>\n",
       "    </tr>\n",
       "    <tr>\n",
       "      <th>194</th>\n",
       "      <td>100 Cats New York</td>\n",
       "      <td>Aug 27, 2024</td>\n",
       "      <td>0</td>\n",
       "      <td>Very Positive&lt;br&gt;98% of the 272 user reviews f...</td>\n",
       "      <td>None</td>\n",
       "      <td>Free</td>\n",
       "    </tr>\n",
       "    <tr>\n",
       "      <th>386</th>\n",
       "      <td>Lil Gator Game</td>\n",
       "      <td>Dec 14, 2022</td>\n",
       "      <td>1999</td>\n",
       "      <td>Overwhelmingly Positive&lt;br&gt;99% of the 3,584 us...</td>\n",
       "      <td>None</td>\n",
       "      <td>$19.99</td>\n",
       "    </tr>\n",
       "    <tr>\n",
       "      <th>85</th>\n",
       "      <td>Busway Islands - Puzzle</td>\n",
       "      <td>Apr 20, 2023</td>\n",
       "      <td>59</td>\n",
       "      <td>Positive&lt;br&gt;96% of the 28 user reviews for thi...</td>\n",
       "      <td>$2.99</td>\n",
       "      <td>$0.59</td>\n",
       "    </tr>\n",
       "    <tr>\n",
       "      <th>21</th>\n",
       "      <td>Escape From Mystwood Mansion</td>\n",
       "      <td>Sep 27, 2023</td>\n",
       "      <td>1699</td>\n",
       "      <td>Very Positive&lt;br&gt;93% of the 454 user reviews f...</td>\n",
       "      <td>None</td>\n",
       "      <td>$16.99</td>\n",
       "    </tr>\n",
       "  </tbody>\n",
       "</table>\n",
       "</div>"
      ],
      "text/plain": [
       "                                   title  release_date final_price  \\\n",
       "418                         The Cat Maze  Sep 27, 2022         499   \n",
       "506           Railway Islands 2 - Puzzle  Nov 20, 2023         499   \n",
       "500  William and Sly: Classic Collection   Dec 1, 2023           0   \n",
       "111                      Coloring Game 4  Jul 30, 2021           0   \n",
       "450             Cats and Seek: Dino Park  Feb 25, 2024         199   \n",
       "372              A Weekend in Puzzleburg  Feb 17, 2023        1999   \n",
       "329    Duck Detective: The Secret Salami  May 23, 2024         999   \n",
       "206                           Frog World  Aug 15, 2024           0   \n",
       "268                           Snake Pass  Mar 28, 2017        1999   \n",
       "333                 A Tower Full of Cats  May 20, 2024         479   \n",
       "481                    Omurice Next Time  Jan 15, 2024        1299   \n",
       "194                    100 Cats New York  Aug 27, 2024           0   \n",
       "386                       Lil Gator Game  Dec 14, 2022        1999   \n",
       "85               Busway Islands - Puzzle  Apr 20, 2023          59   \n",
       "21          Escape From Mystwood Mansion  Sep 27, 2023        1699   \n",
       "\n",
       "                                        review_summary original_price  \\\n",
       "418                                               None           None   \n",
       "506  Positive<br>95% of the 20 user reviews for thi...           None   \n",
       "500  Very Positive<br>97% of the 145 user reviews f...           None   \n",
       "111  Very Positive<br>93% of the 1,779 user reviews...           None   \n",
       "450  Very Positive<br>100% of the 139 user reviews ...           None   \n",
       "372                                               None           None   \n",
       "329  Overwhelmingly Positive<br>95% of the 3,314 us...           None   \n",
       "206  Positive<br>96% of the 26 user reviews for thi...           None   \n",
       "268  Very Positive<br>86% of the 1,054 user reviews...           None   \n",
       "333  Overwhelmingly Positive<br>99% of the 1,262 us...          $5.99   \n",
       "481  Positive<br>100% of the 21 user reviews for th...           None   \n",
       "194  Very Positive<br>98% of the 272 user reviews f...           None   \n",
       "386  Overwhelmingly Positive<br>99% of the 3,584 us...           None   \n",
       "85   Positive<br>96% of the 28 user reviews for thi...          $2.99   \n",
       "21   Very Positive<br>93% of the 454 user reviews f...           None   \n",
       "\n",
       "    discount_price  \n",
       "418          $4.99  \n",
       "506          $4.99  \n",
       "500           Free  \n",
       "111           Free  \n",
       "450          $1.99  \n",
       "372         $19.99  \n",
       "329          $9.99  \n",
       "206           Free  \n",
       "268         $19.99  \n",
       "333          $4.79  \n",
       "481         $12.99  \n",
       "194           Free  \n",
       "386         $19.99  \n",
       "85           $0.59  \n",
       "21          $16.99  "
      ]
     },
     "execution_count": 34,
     "metadata": {},
     "output_type": "execute_result"
    }
   ],
   "source": [
    "df.sample(15)"
   ]
  },
  {
   "cell_type": "code",
   "execution_count": 35,
   "id": "afde9230-f706-42ea-99ac-dcb9b2759e84",
   "metadata": {},
   "outputs": [
    {
     "data": {
      "text/plain": [
       "PosixPath('sheets')"
      ]
     },
     "execution_count": 35,
     "metadata": {},
     "output_type": "execute_result"
    }
   ],
   "source": [
    "#set a path for spreadsheet to go \n",
    "excel_path= Path() / \"sheets\"\n",
    "excel_path"
   ]
  },
  {
   "cell_type": "code",
   "execution_count": 36,
   "id": "04aa933d-14f0-4a64-8318-dbcf90816d91",
   "metadata": {},
   "outputs": [],
   "source": [
    "#name the file\n",
    "file_name= \"cozyGamesData.xlsx\""
   ]
  },
  {
   "cell_type": "code",
   "execution_count": 37,
   "id": "f58ad12f",
   "metadata": {},
   "outputs": [],
   "source": [
    "# combine above information\n",
    "file_path= excel_path/file_name"
   ]
  },
  {
   "cell_type": "code",
   "execution_count": 38,
   "id": "960651d2-51e1-4e74-87c8-41736e0fd5e6",
   "metadata": {},
   "outputs": [],
   "source": [
    "#save df to an excel spreadsheet\n",
    "df.to_excel(file_path,index=False)"
   ]
  },
  {
   "cell_type": "code",
   "execution_count": null,
   "id": "2f66fdea-b81a-4b80-9544-8b64dac37013",
   "metadata": {},
   "outputs": [],
   "source": []
  }
 ],
 "metadata": {
  "kernelspec": {
   "display_name": "Python 3 (ipykernel)",
   "language": "python",
   "name": "python3"
  },
  "language_info": {
   "codemirror_mode": {
    "name": "ipython",
    "version": 3
   },
   "file_extension": ".py",
   "mimetype": "text/x-python",
   "name": "python",
   "nbconvert_exporter": "python",
   "pygments_lexer": "ipython3",
   "version": "3.11.5"
  }
 },
 "nbformat": 4,
 "nbformat_minor": 5
}
